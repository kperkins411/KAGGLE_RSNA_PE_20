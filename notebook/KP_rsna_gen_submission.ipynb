{
 "cells": [
  {
   "cell_type": "markdown",
   "metadata": {},
   "source": [
    "# Notes\n",
    "Added a preconverted jpg data library to kernel from https://www.kaggle.com/vaillant/discussion see explanation for RGB channels<BR>\n",
    "Starter code from https://www.kaggle.com/orkatz2/pulmonary-embolism-pytorch-train"
   ]
  },
  {
   "cell_type": "code",
   "execution_count": 21,
   "metadata": {
    "ExecuteTime": {
     "end_time": "2020-10-23T04:52:05.166187Z",
     "start_time": "2020-10-23T04:52:05.156207Z"
    },
    "code_folding": [
     0
    ]
   },
   "outputs": [],
   "source": [
    "# import sys\n",
    "# print(sys.path)\n",
    "# print(sys.executable)\n",
    "# # !echo $PATH\n",
    "# # !pip install pidicom\n",
    "# # !conda install -c conda-forge pydicom -y\n",
    "# !conda list\n",
    "\n",
    "\n",
    "# sys.path.append('/lib/python3.7/site-packages')\n",
    "# from PIL import Image\n",
    "\n",
    "#its a bit hard to install pillow-SIMD\n",
    "# !conda update --all -y\n",
    "# !conda list\n",
    "# !pip install Pillow-SIMD -y\n",
    "# !conda uninstall pillow -y\n",
    "#!conda install pydicom -y\n",
    "# !conda install matplotlib"
   ]
  },
  {
   "cell_type": "code",
   "execution_count": 22,
   "metadata": {
    "ExecuteTime": {
     "end_time": "2020-10-23T04:52:05.180544Z",
     "start_time": "2020-10-23T04:52:05.167397Z"
    },
    "collapsed": true
   },
   "outputs": [],
   "source": [
    "\n",
    "\n",
    "# This Python 3 environment comes with many helpful analytics libraries installed\n",
    "# It is defined by the kaggle/python Docker image: https://github.com/kaggle/docker-python\n",
    "# For example, here's several helpful packages to load\n",
    "\n",
    "import numpy as np # linear algebra\n",
    "import pandas as pd # data processing, CSV file I/O (e.g. pd.read_csv)\n",
    "\n",
    "# Input data files are available in the read-only \"../input/\" directory\n",
    "# For example, running this (by clicking run or pressing Shift+Enter) will list all files under the input directory\n",
    "\n",
    "import os\n",
    "# for dirname, _, filenames in os.walk('/kaggle/input'):\n",
    "#     for filename in filenames:\n",
    "#         print(os.path.join(dirname, filename))\n",
    "\n",
    "# You can write up to 5GB to the current directory (/kaggle/working/) that gets preserved as output when you create a version using \"Save & Run All\" \n",
    "# You can also write temporary files to /kaggle/temp/, but they won't be saved outside of the current session\n",
    "\n",
    "import torch\n",
    "import torch.nn as nn\n",
    "import torch.functional as F\n",
    "import torch.optim as optim\n",
    "import torchvision\n",
    "from torchvision import models\n",
    "from torchvision import transforms\n",
    "from torch.utils.data import Dataset,DataLoader\n",
    "import functools\n",
    "import glob\n",
    "\n",
    "\n",
    "import gc\n",
    "from PIL import Image\n",
    "import torchvision.transforms as transforms\n",
    "import pydicom"
   ]
  },
  {
   "cell_type": "code",
   "execution_count": 23,
   "metadata": {
    "ExecuteTime": {
     "end_time": "2020-10-23T04:52:05.190827Z",
     "start_time": "2020-10-23T04:52:05.181775Z"
    },
    "collapsed": true
   },
   "outputs": [],
   "source": [
    "# !jupyter nbextension enable --py widgetsnbextension\n",
    "# !jupyter labextension install @jupyter-widgets/jupyterlab-manager"
   ]
  },
  {
   "cell_type": "markdown",
   "metadata": {},
   "source": [
    "# Create Dataset"
   ]
  },
  {
   "cell_type": "code",
   "execution_count": 24,
   "metadata": {
    "ExecuteTime": {
     "end_time": "2020-10-23T04:52:05.200042Z",
     "start_time": "2020-10-23T04:52:05.192021Z"
    },
    "collapsed": true
   },
   "outputs": [],
   "source": [
    "#where the data is\n",
    "PATH = '../input/rsna-str-pulmonary-embolism-detection'\n",
    "PATH_TEST=PATH+'/test/'"
   ]
  },
  {
   "cell_type": "code",
   "execution_count": 25,
   "metadata": {
    "ExecuteTime": {
     "end_time": "2020-10-23T04:52:05.212425Z",
     "start_time": "2020-10-23T04:52:05.201057Z"
    },
    "collapsed": true
   },
   "outputs": [],
   "source": [
    "from PIL import Image\n",
    "\n",
    "# For validation images\n",
    "transforms_val = transforms.Compose([\n",
    "    transforms.ToPILImage(),\n",
    "    transforms.Resize(224),\n",
    "    transforms.ToTensor(),\n",
    "    transforms.Normalize(mean=[0.485, 0.456, 0.406],\n",
    "                                 std=[0.229, 0.224, 0.225]),\n",
    "])\n",
    "\n",
    "class CTDatasetDicom(Dataset):\n",
    "    def __init__(self,df,path,transforms=None,preprocess_to_train_format=None,size=254,mode='val'):\n",
    "        \n",
    "        #get a numpy representation of the pandas dataframe\n",
    "        self.df = df.values   \n",
    "        self.path = path\n",
    "        self.transforms = transforms\n",
    "#         self.preprocessing = preprocessing\n",
    "        self.preprocess_to_train_format = preprocess_to_train_format\n",
    "        self.size=size\n",
    "\n",
    "\n",
    "    #window just like we did on training set\n",
    "    def _window(self,img, WL=50, WW=350):\n",
    "        upper, lower = WL+WW//2, WL-WW//2\n",
    "        X = np.clip(img.copy(), lower, upper)\n",
    "        X = X - np.min(X)\n",
    "        X = X / np.max(X)\n",
    "        X = (X*255.0).astype('uint8')\n",
    "        return X\n",
    "\n",
    "    def __getitem__(self, idx):\n",
    "        row = self.df[idx] \n",
    "#         print(row)\n",
    "          \n",
    "        #get the dicom data, preprocess it to the same format that we used in training\n",
    "        dcm_data = pydicom.dcmread(f\"{self.path}/{row[0]}/{row[1]}/{row[2]}.dcm\")\n",
    "        image = dcm_data.pixel_array * int(dcm_data.RescaleSlope) + int(dcm_data.RescaleIntercept)\n",
    "        image = np.stack([self._window(image, WL=-600, WW=1500),\n",
    "                          self._window(image, WL=40, WW=400),\n",
    "                          self._window(image, WL=100, WW=700)], 2)\n",
    "        \n",
    "#         if self.preprocessing:\n",
    "#             image = self.preprocessing(image)\n",
    " \n",
    "        if self.transforms:\n",
    "            image = self.transforms(image)\n",
    "            \n",
    "        #return study id and imageid\n",
    "        return row[0],row[2],image\n",
    "\n",
    "    def __len__(self):\n",
    "        return len(self.df)\n",
    "    \n",
    "    #this function gets a balanced set, 1/2 have pe_present_on_image=1, 1/2 have pe_present_on_image=0\n",
    "    #note that we discard a bunch of images that have no pe present\n",
    "#     def generate_balanced_set(self):\n",
    "#         df0 = self.df_main[self.df_main[:,3]==0]\n",
    "#         df1 = self.df_main[self.df_main[:,3]==1]\n",
    "#         np.random.shuffle(df0)\n",
    "#         self.df = np.concatenate([df0[:len(df1)],df1],axis=0)\n",
    "        \n",
    "\n",
    "# def norm(img):\n",
    "#     img-=img.min()\n",
    "#     return img/img.max()"
   ]
  },
  {
   "cell_type": "markdown",
   "metadata": {
    "ExecuteTime": {
     "end_time": "2020-10-21T16:10:04.605360Z",
     "start_time": "2020-10-21T16:10:04.600249Z"
    }
   },
   "source": [
    "## Create dataframe"
   ]
  },
  {
   "cell_type": "code",
   "execution_count": 26,
   "metadata": {
    "ExecuteTime": {
     "end_time": "2020-10-23T04:52:05.335220Z",
     "start_time": "2020-10-23T04:52:05.213243Z"
    }
   },
   "outputs": [
    {
     "name": "stdout",
     "output_type": "stream",
     "text": [
      "650\n",
      "146853\n"
     ]
    }
   ],
   "source": [
    "test_df = pd.read_csv(\"../input/rsna-str-pulmonary-embolism-detection/test.csv\",dtype={'StudyInstanceUID':'string', 'SeriesInstanceUID':'string', 'SOPInstanceUID':'string'})\n",
    "# test_df = test_df.set_index('SOPInstanceUID')\n",
    "listOfStudyID = test_df['StudyInstanceUID'].unique()\n",
    "print(len(listOfStudyID))\n",
    "print(len(test_df))\n",
    "\n",
    "# test_df.head()\n",
    "# test_df.describe()\n",
    "# test_df.count()"
   ]
  },
  {
   "cell_type": "markdown",
   "metadata": {},
   "source": [
    "## Create CTDatasetDicom from Dataframe"
   ]
  },
  {
   "cell_type": "code",
   "execution_count": 27,
   "metadata": {
    "ExecuteTime": {
     "end_time": "2020-10-23T04:52:05.345551Z",
     "start_time": "2020-10-23T04:52:05.336117Z"
    },
    "collapsed": true
   },
   "outputs": [],
   "source": [
    "test_dataset = CTDatasetDicom(test_df,path= PATH_TEST, transforms=transforms_val)"
   ]
  },
  {
   "cell_type": "code",
   "execution_count": 28,
   "metadata": {
    "ExecuteTime": {
     "end_time": "2020-10-23T04:52:05.365441Z",
     "start_time": "2020-10-23T04:52:05.346916Z"
    },
    "code_folding": [
     0
    ],
    "collapsed": true
   },
   "outputs": [],
   "source": [
    "# #visualize stuff\n",
    "# print(len(test_dataset))\n",
    "# img = test_dataset[0]\n",
    "# img.shape\n",
    "# img"
   ]
  },
  {
   "cell_type": "markdown",
   "metadata": {},
   "source": [
    "## Create Dataframe to track StudyInstanceUID parameters\n",
    "\n",
    "For every series (SeriesInstanceUID) make predictions for every image in that series.  Create a dataframe consisting of 1 row per series.  Each row has 10 columns, the series value and the following 9 columns.\n",
    "\n",
    "Then use the model to predict all of those 9 values for each image (SOPInstanceUID) in the series. Save the largest image prediction for each column out of all the image in the series \n",
    "\n",
    "Presto have largest prediction per series"
   ]
  },
  {
   "cell_type": "code",
   "execution_count": 29,
   "metadata": {
    "ExecuteTime": {
     "end_time": "2020-10-23T04:52:05.381104Z",
     "start_time": "2020-10-23T04:52:05.366567Z"
    },
    "collapsed": true
   },
   "outputs": [],
   "source": [
    "# #dataframe tutorial\n",
    "# cols=['series1','b','c']\n",
    "# series=['1a','2a','3a','4a','5a']\n",
    "# df=pd.DataFrame(columns=cols)\n",
    "\n",
    "# df.head()\n",
    "# for i,val in enumerate(series):\n",
    "#     df.loc[i,'series1'] = val\n",
    "\n",
    "# df.head()\n",
    "\n",
    "# df.loc[df['series1']== '1a','b']=2\n",
    "# #  thisStudyDF = test_df[test_df['StudyInstanceUID']==eachStudyID]"
   ]
  },
  {
   "cell_type": "markdown",
   "metadata": {},
   "source": [
    "## Create dataloader from CTDatasetDicom"
   ]
  },
  {
   "cell_type": "code",
   "execution_count": 30,
   "metadata": {
    "ExecuteTime": {
     "end_time": "2020-10-23T04:52:05.389312Z",
     "start_time": "2020-10-23T04:52:05.381904Z"
    },
    "collapsed": true
   },
   "outputs": [],
   "source": [
    "from snippets import config"
   ]
  },
  {
   "cell_type": "code",
   "execution_count": 31,
   "metadata": {
    "ExecuteTime": {
     "end_time": "2020-10-23T04:52:05.400764Z",
     "start_time": "2020-10-23T04:52:05.390248Z"
    },
    "collapsed": true
   },
   "outputs": [],
   "source": [
    "test_dl = DataLoader(test_df, batch_size=config.batch_size*2, shuffle=False, num_workers=config.WORKERS, pin_memory=True)"
   ]
  },
  {
   "cell_type": "code",
   "execution_count": 32,
   "metadata": {
    "ExecuteTime": {
     "end_time": "2020-10-23T04:52:05.419930Z",
     "start_time": "2020-10-23T04:52:05.401723Z"
    }
   },
   "outputs": [
    {
     "data": {
      "text/plain": [
       "144"
      ]
     },
     "execution_count": 32,
     "metadata": {},
     "output_type": "execute_result"
    }
   ],
   "source": [
    "listOfStudyID[0]\n",
    "thisStudyDF = test_df[test_df['StudyInstanceUID']==listOfStudyID[0]]\n",
    "len(thisStudyDF)\n",
    "# thisStudyDF"
   ]
  },
  {
   "cell_type": "code",
   "execution_count": 33,
   "metadata": {
    "ExecuteTime": {
     "end_time": "2020-10-23T04:52:05.428310Z",
     "start_time": "2020-10-23T04:52:05.420914Z"
    },
    "code_folding": [
     0
    ],
    "collapsed": true
   },
   "outputs": [],
   "source": [
    "# eachImageID=thisStudyDF.index[0]\n",
    "# import pydicom\n",
    "\n",
    "# # eachImagePath = '../input/rsna-str-pulmonary-embolism-detection/test/'+test_df.loc[eachImageID, 'StudyInstanceUID']+'/'+test_df.loc[eachImageID, 'SeriesInstanceUID']+'/'+eachImageID+'.dcm'\n",
    "# eachImagePath = '../input/rsna-str-pulmonary-embolism-detection/test/00268ff88746/75d23269adbd/012c12fe09c3.dcm'\n",
    "# dcm_data = pydicom.dcmread(eachImagePath)\n",
    "# image = dcm_data.pixel_array * int(dcm_data.RescaleSlope) + int(dcm_data.RescaleIntercept)\n",
    "# image = np.stack([test_dataset._window(image, WL=-600, WW=1500),\n",
    "#                   test_dataset._window(image, WL=40, WW=400),\n",
    "#                   test_dataset._window(image, WL=100, WW=700)], 2)\n",
    "\n",
    "# print(image.shape)\n",
    "# # image = image.astype(np.float32)\n",
    "# image = preprocessing_val(image)\n",
    "# toPred = image.unsqueeze(0)\n",
    "# print(image.shape)\n",
    "# # z = model(toPred)\n",
    "# # pred = torch.sigmoid(z)\n",
    "# # pred1 = pred.detach().numpy().astype('float32')[0]"
   ]
  },
  {
   "cell_type": "markdown",
   "metadata": {},
   "source": [
    "# Load Model"
   ]
  },
  {
   "cell_type": "code",
   "execution_count": 34,
   "metadata": {
    "ExecuteTime": {
     "end_time": "2020-10-23T04:52:05.439582Z",
     "start_time": "2020-10-23T04:52:05.429157Z"
    }
   },
   "outputs": [
    {
     "data": {
      "text/plain": [
       "device(type='cuda')"
      ]
     },
     "execution_count": 34,
     "metadata": {},
     "output_type": "execute_result"
    }
   ],
   "source": [
    "#where should it go\n",
    "dev = torch.device(\n",
    "    \"cuda\") if torch.cuda.is_available() else torch.device(\"cpu\")\n",
    "dev"
   ]
  },
  {
   "cell_type": "code",
   "execution_count": 35,
   "metadata": {
    "ExecuteTime": {
     "end_time": "2020-10-23T04:52:05.641128Z",
     "start_time": "2020-10-23T04:52:05.440481Z"
    }
   },
   "outputs": [
    {
     "data": {
      "text/plain": [
       "ResNet(\n",
       "  (conv1): Conv2d(3, 64, kernel_size=(7, 7), stride=(2, 2), padding=(3, 3), bias=False)\n",
       "  (bn1): BatchNorm2d(64, eps=1e-05, momentum=0.1, affine=True, track_running_stats=True)\n",
       "  (relu): ReLU(inplace=True)\n",
       "  (maxpool): MaxPool2d(kernel_size=3, stride=2, padding=1, dilation=1, ceil_mode=False)\n",
       "  (layer1): Sequential(\n",
       "    (0): BasicBlock(\n",
       "      (conv1): Conv2d(64, 64, kernel_size=(3, 3), stride=(1, 1), padding=(1, 1), bias=False)\n",
       "      (bn1): BatchNorm2d(64, eps=1e-05, momentum=0.1, affine=True, track_running_stats=True)\n",
       "      (relu): ReLU(inplace=True)\n",
       "      (conv2): Conv2d(64, 64, kernel_size=(3, 3), stride=(1, 1), padding=(1, 1), bias=False)\n",
       "      (bn2): BatchNorm2d(64, eps=1e-05, momentum=0.1, affine=True, track_running_stats=True)\n",
       "    )\n",
       "    (1): BasicBlock(\n",
       "      (conv1): Conv2d(64, 64, kernel_size=(3, 3), stride=(1, 1), padding=(1, 1), bias=False)\n",
       "      (bn1): BatchNorm2d(64, eps=1e-05, momentum=0.1, affine=True, track_running_stats=True)\n",
       "      (relu): ReLU(inplace=True)\n",
       "      (conv2): Conv2d(64, 64, kernel_size=(3, 3), stride=(1, 1), padding=(1, 1), bias=False)\n",
       "      (bn2): BatchNorm2d(64, eps=1e-05, momentum=0.1, affine=True, track_running_stats=True)\n",
       "    )\n",
       "  )\n",
       "  (layer2): Sequential(\n",
       "    (0): BasicBlock(\n",
       "      (conv1): Conv2d(64, 128, kernel_size=(3, 3), stride=(2, 2), padding=(1, 1), bias=False)\n",
       "      (bn1): BatchNorm2d(128, eps=1e-05, momentum=0.1, affine=True, track_running_stats=True)\n",
       "      (relu): ReLU(inplace=True)\n",
       "      (conv2): Conv2d(128, 128, kernel_size=(3, 3), stride=(1, 1), padding=(1, 1), bias=False)\n",
       "      (bn2): BatchNorm2d(128, eps=1e-05, momentum=0.1, affine=True, track_running_stats=True)\n",
       "      (downsample): Sequential(\n",
       "        (0): Conv2d(64, 128, kernel_size=(1, 1), stride=(2, 2), bias=False)\n",
       "        (1): BatchNorm2d(128, eps=1e-05, momentum=0.1, affine=True, track_running_stats=True)\n",
       "      )\n",
       "    )\n",
       "    (1): BasicBlock(\n",
       "      (conv1): Conv2d(128, 128, kernel_size=(3, 3), stride=(1, 1), padding=(1, 1), bias=False)\n",
       "      (bn1): BatchNorm2d(128, eps=1e-05, momentum=0.1, affine=True, track_running_stats=True)\n",
       "      (relu): ReLU(inplace=True)\n",
       "      (conv2): Conv2d(128, 128, kernel_size=(3, 3), stride=(1, 1), padding=(1, 1), bias=False)\n",
       "      (bn2): BatchNorm2d(128, eps=1e-05, momentum=0.1, affine=True, track_running_stats=True)\n",
       "    )\n",
       "  )\n",
       "  (layer3): Sequential(\n",
       "    (0): BasicBlock(\n",
       "      (conv1): Conv2d(128, 256, kernel_size=(3, 3), stride=(2, 2), padding=(1, 1), bias=False)\n",
       "      (bn1): BatchNorm2d(256, eps=1e-05, momentum=0.1, affine=True, track_running_stats=True)\n",
       "      (relu): ReLU(inplace=True)\n",
       "      (conv2): Conv2d(256, 256, kernel_size=(3, 3), stride=(1, 1), padding=(1, 1), bias=False)\n",
       "      (bn2): BatchNorm2d(256, eps=1e-05, momentum=0.1, affine=True, track_running_stats=True)\n",
       "      (downsample): Sequential(\n",
       "        (0): Conv2d(128, 256, kernel_size=(1, 1), stride=(2, 2), bias=False)\n",
       "        (1): BatchNorm2d(256, eps=1e-05, momentum=0.1, affine=True, track_running_stats=True)\n",
       "      )\n",
       "    )\n",
       "    (1): BasicBlock(\n",
       "      (conv1): Conv2d(256, 256, kernel_size=(3, 3), stride=(1, 1), padding=(1, 1), bias=False)\n",
       "      (bn1): BatchNorm2d(256, eps=1e-05, momentum=0.1, affine=True, track_running_stats=True)\n",
       "      (relu): ReLU(inplace=True)\n",
       "      (conv2): Conv2d(256, 256, kernel_size=(3, 3), stride=(1, 1), padding=(1, 1), bias=False)\n",
       "      (bn2): BatchNorm2d(256, eps=1e-05, momentum=0.1, affine=True, track_running_stats=True)\n",
       "    )\n",
       "  )\n",
       "  (layer4): Sequential(\n",
       "    (0): BasicBlock(\n",
       "      (conv1): Conv2d(256, 512, kernel_size=(3, 3), stride=(2, 2), padding=(1, 1), bias=False)\n",
       "      (bn1): BatchNorm2d(512, eps=1e-05, momentum=0.1, affine=True, track_running_stats=True)\n",
       "      (relu): ReLU(inplace=True)\n",
       "      (conv2): Conv2d(512, 512, kernel_size=(3, 3), stride=(1, 1), padding=(1, 1), bias=False)\n",
       "      (bn2): BatchNorm2d(512, eps=1e-05, momentum=0.1, affine=True, track_running_stats=True)\n",
       "      (downsample): Sequential(\n",
       "        (0): Conv2d(256, 512, kernel_size=(1, 1), stride=(2, 2), bias=False)\n",
       "        (1): BatchNorm2d(512, eps=1e-05, momentum=0.1, affine=True, track_running_stats=True)\n",
       "      )\n",
       "    )\n",
       "    (1): BasicBlock(\n",
       "      (conv1): Conv2d(512, 512, kernel_size=(3, 3), stride=(1, 1), padding=(1, 1), bias=False)\n",
       "      (bn1): BatchNorm2d(512, eps=1e-05, momentum=0.1, affine=True, track_running_stats=True)\n",
       "      (relu): ReLU(inplace=True)\n",
       "      (conv2): Conv2d(512, 512, kernel_size=(3, 3), stride=(1, 1), padding=(1, 1), bias=False)\n",
       "      (bn2): BatchNorm2d(512, eps=1e-05, momentum=0.1, affine=True, track_running_stats=True)\n",
       "    )\n",
       "  )\n",
       "  (avgpool): AdaptiveAvgPool2d(output_size=(1, 1))\n",
       "  (fc): Linear(in_features=512, out_features=14, bias=True)\n",
       ")"
      ]
     },
     "execution_count": 35,
     "metadata": {},
     "output_type": "execute_result"
    }
   ],
   "source": [
    "\n",
    "# Load the model that was just trained\n",
    "#and do following inference with it\n",
    "model = models.resnet18(pretrained=True)\n",
    "in_features = model.fc.in_features\n",
    "model.fc = nn.Linear(in_features,config.numb_classes)\n",
    "\n",
    "#it was saved on GPU, load it on CPU\n",
    "model.load_state_dict(torch.load(config.MODEL_PARAMS_LOC, map_location=torch.device('cpu')))\n",
    "model.eval()"
   ]
  },
  {
   "cell_type": "code",
   "execution_count": 36,
   "metadata": {
    "ExecuteTime": {
     "end_time": "2020-10-23T04:52:05.650942Z",
     "start_time": "2020-10-23T04:52:05.642052Z"
    }
   },
   "outputs": [
    {
     "name": "stdout",
     "output_type": "stream",
     "text": [
      "The autoreload extension is already loaded. To reload it, use:\n",
      "  %reload_ext autoreload\n"
     ]
    },
    {
     "data": {
      "text/plain": [
       "14"
      ]
     },
     "execution_count": 36,
     "metadata": {},
     "output_type": "execute_result"
    }
   ],
   "source": [
    "%load_ext autoreload\n",
    "%autoreload 2\n",
    "# import importlib\n",
    "# importlib.reload(snippets)\n",
    "config.numb_classes"
   ]
  },
  {
   "cell_type": "markdown",
   "metadata": {},
   "source": [
    "# Prediction generator\n",
    "\n",
    "Goes in another notebook"
   ]
  },
  {
   "cell_type": "code",
   "execution_count": 37,
   "metadata": {
    "ExecuteTime": {
     "end_time": "2020-10-23T04:52:05.662991Z",
     "start_time": "2020-10-23T04:52:05.651809Z"
    },
    "collapsed": true
   },
   "outputs": [],
   "source": [
    "exam_level_features = ['negative_exam_for_pe', 'rv_lv_ratio_gte_1', 'rv_lv_ratio_lt_1',\n",
    "                       'leftsided_pe',         'chronic_pe',        'rightsided_pe', \n",
    "                       'acute_and_chronic_pe', 'central_pe',        'indeterminate']\n",
    "\n",
    "#create columns\n",
    "index = ['StudyInstanceUID']\n",
    "\n",
    "all = (index)\n",
    "all.extend(exam_level_features)\n",
    "\n",
    "#create dict of unique StudyInstanceUID\n",
    "studies={'StudyInstanceUID':listOfStudyID}\n",
    "\n",
    "totals_per_series = pd.DataFrame(studies,columns=all).fillna(0.0)"
   ]
  },
  {
   "cell_type": "code",
   "execution_count": 38,
   "metadata": {
    "ExecuteTime": {
     "end_time": "2020-10-23T04:52:05.673280Z",
     "start_time": "2020-10-23T04:52:05.663907Z"
    },
    "code_folding": [],
    "collapsed": true
   },
   "outputs": [],
   "source": [
    "# %time\n",
    "# from snippets import SInstUID_tracker\n",
    "\n",
    "# import time\n",
    "# start_time = time.perf_counter()\n",
    " \n",
    "# f = open('submission.csv', 'w')\n",
    "# f.write('id,label\\n')\n",
    "\n",
    "# sidt = SInstUID_tracker(test_df )\n",
    "# imgs_processed=0\n",
    "\n",
    "# # dev = 'cpu'\n",
    "# model.to(dev)\n",
    "# with torch.no_grad():\n",
    "\n",
    "#     for eachStudyID in tqdm(listOfStudyID):\n",
    "        \n",
    "#         #get one study\n",
    "#         thisStudyDF = test_df[test_df['StudyInstanceUID']==eachStudyID]\n",
    "        \n",
    "#         #create a dataset from that study\n",
    "#         test_dataset = CTDatasetDicom(thisStudyDF,path= PATH_TEST, transforms=transforms_val)\n",
    "        \n",
    "#         #create a dataloader for just that study\n",
    "#         test_dataloader = DataLoader(test_dataset, batch_size=1, shuffle=False, num_workers=config.WORKERS, pin_memory=True)        \n",
    "# #         test_dataloader = DataLoader(test_dataset, batch_size=config.batch_size*4, shuffle=False, num_workers=config.WORKERS, pin_memory=True)\n",
    "# #         tqdm_loader = tqdm(test_dataloader)\n",
    "#         for idx, images in enumerate(test_dataloader):\n",
    "#             images=images.to(dev)\n",
    "# #             print(len(images))\n",
    "            \n",
    "#             pred=model(images)\n",
    "#             pred = torch.sigmoid(pred)\n",
    "            \n",
    "#             print(pred)\n",
    "#             raise\n",
    "            \n",
    "#             imgs_processed+=64\n",
    "#             if(imgs_processed>1000):\n",
    "#                 elapsed_time = time.perf_counter() - start_time\n",
    "#                 tpall =((elapsed_time/1000.0)*1500000)/60.0\n",
    "#                 print(f'time to do 1.5 million images {tpall:0.4f} minutes')\n",
    "                #its 574 minutes for CPU\n",
    "                #its 111 minutes with bathcsize of 64 on GPU\n",
    "                #with only 1 data_loader for the whole set its 90 minutes\n",
    "#             print(pred)\n",
    "#             raise\n",
    "            \n",
    "            \n",
    "            \n",
    "#         for eachImageID in thisStudyDF.index:\n",
    "            \n",
    "# #             try:\n",
    "#                 eachImagePath = '../input/rsna-str-pulmonary-embolism-detection/test/'+test_df.loc[eachImageID, 'StudyInstanceUID']+'/'+test_df.loc[eachImageID, 'SeriesInstanceUID']+'/'+eachImageID+'.dcm'\n",
    "#                 dcm_data = dcmread(eachImagePath)\n",
    "#                 image = dcm_data.pixel_array * int(dcm_data.RescaleSlope) + int(dcm_data.RescaleIntercept)\n",
    "#                 image = np.stack([window(image, WL=-600, WW=1500),\n",
    "#                                   window(image, WL=40, WW=400),\n",
    "#                                   window(image, WL=100, WW=700)], 2)\n",
    "\n",
    "#                 image = image.astype(np.float32)\n",
    "#                 image = data_transform(image)\n",
    "#                 toPred = image.unsqueeze(0).cuda()\n",
    "#                 z = model(toPred)\n",
    "#                 pred = torch.sigmoid(z)\n",
    "#                 pred = pred.cpu().detach().numpy().astype('float32')[0,0]\n",
    "\n",
    "#             except:\n",
    "#                 pred = defaultScore['_pe_present_on_image']\n",
    "          "
   ]
  },
  {
   "cell_type": "code",
   "execution_count": 39,
   "metadata": {
    "ExecuteTime": {
     "end_time": "2020-10-23T04:52:05.697403Z",
     "start_time": "2020-10-23T04:52:05.674111Z"
    }
   },
   "outputs": [
    {
     "data": {
      "text/html": [
       "<div>\n",
       "<style scoped>\n",
       "    .dataframe tbody tr th:only-of-type {\n",
       "        vertical-align: middle;\n",
       "    }\n",
       "\n",
       "    .dataframe tbody tr th {\n",
       "        vertical-align: top;\n",
       "    }\n",
       "\n",
       "    .dataframe thead th {\n",
       "        text-align: right;\n",
       "    }\n",
       "</style>\n",
       "<table border=\"1\" class=\"dataframe\">\n",
       "  <thead>\n",
       "    <tr style=\"text-align: right;\">\n",
       "      <th></th>\n",
       "      <th>image</th>\n",
       "      <th>pe_present_on_image</th>\n",
       "    </tr>\n",
       "  </thead>\n",
       "  <tbody>\n",
       "    <tr>\n",
       "      <th>0</th>\n",
       "      <td>1 image</td>\n",
       "      <td>5.0</td>\n",
       "    </tr>\n",
       "    <tr>\n",
       "      <th>1</th>\n",
       "      <td>2 image</td>\n",
       "      <td>5.0</td>\n",
       "    </tr>\n",
       "    <tr>\n",
       "      <th>2</th>\n",
       "      <td>3 image</td>\n",
       "      <td>5.0</td>\n",
       "    </tr>\n",
       "  </tbody>\n",
       "</table>\n",
       "</div>"
      ],
      "text/plain": [
       "     image  pe_present_on_image\n",
       "0  1 image                  5.0\n",
       "1  2 image                  5.0\n",
       "2  3 image                  5.0"
      ]
     },
     "execution_count": 39,
     "metadata": {},
     "output_type": "execute_result"
    }
   ],
   "source": [
    "df_image_results=pd.DataFrame( columns=['image','pe_present_on_image' ])\n",
    "df_image_results=df_image_results.append({'image':'1 image', 'pe_present_on_image':5.0}, ignore_index=True)\n",
    "df_image_results=df_image_results.append({'image':'2 image', 'pe_present_on_image':5.0}, ignore_index=True)\n",
    "df_image_results=df_image_results.append({'image':'3 image', 'pe_present_on_image':5.0}, ignore_index=True)\n",
    "\n",
    "df_image_results.head()"
   ]
  },
  {
   "cell_type": "code",
   "execution_count": null,
   "metadata": {
    "ExecuteTime": {
     "start_time": "2020-10-23T04:52:05.226Z"
    }
   },
   "outputs": [
    {
     "name": "stdout",
     "output_type": "stream",
     "text": [
      "CPU times: user 22 µs, sys: 1 µs, total: 23 µs\n",
      "Wall time: 6.2 µs\n",
      "time to do 1.5 million images 105.7608 minutes\n",
      "time to do 1.5 million images 107.9897 minutes\n",
      "time to do 1.5 million images 110.1135 minutes\n",
      "time to do 1.5 million images 112.3553 minutes\n",
      "time to do 1.5 million images 114.6497 minutes\n",
      "time to do 1.5 million images 116.8905 minutes\n",
      "time to do 1.5 million images 119.2851 minutes\n",
      "time to do 1.5 million images 121.6337 minutes\n",
      "time to do 1.5 million images 124.1165 minutes\n",
      "time to do 1.5 million images 126.2823 minutes\n",
      "time to do 1.5 million images 128.4726 minutes\n",
      "time to do 1.5 million images 130.7151 minutes\n",
      "time to do 1.5 million images 132.9251 minutes\n",
      "time to do 1.5 million images 135.5015 minutes\n",
      "time to do 1.5 million images 138.0049 minutes\n",
      "time to do 1.5 million images 140.6285 minutes\n",
      "time to do 1.5 million images 142.8150 minutes\n",
      "time to do 1.5 million images 145.4818 minutes\n",
      "time to do 1.5 million images 147.7127 minutes\n",
      "time to do 1.5 million images 149.9113 minutes\n",
      "time to do 1.5 million images 152.2453 minutes\n",
      "time to do 1.5 million images 154.9353 minutes\n",
      "time to do 1.5 million images 157.1846 minutes\n",
      "time to do 1.5 million images 159.6411 minutes\n",
      "time to do 1.5 million images 162.1664 minutes\n",
      "time to do 1.5 million images 164.5780 minutes\n",
      "time to do 1.5 million images 166.8817 minutes\n",
      "time to do 1.5 million images 169.6242 minutes\n",
      "time to do 1.5 million images 171.8335 minutes\n",
      "time to do 1.5 million images 174.3383 minutes\n",
      "time to do 1.5 million images 176.6804 minutes\n",
      "time to do 1.5 million images 178.9596 minutes\n",
      "time to do 1.5 million images 181.3098 minutes\n",
      "time to do 1.5 million images 183.9083 minutes\n",
      "time to do 1.5 million images 186.5422 minutes\n",
      "time to do 1.5 million images 188.7860 minutes\n",
      "time to do 1.5 million images 191.3170 minutes\n",
      "time to do 1.5 million images 193.6086 minutes\n",
      "time to do 1.5 million images 196.0992 minutes\n",
      "time to do 1.5 million images 198.6356 minutes\n",
      "time to do 1.5 million images 201.0049 minutes\n",
      "time to do 1.5 million images 203.5413 minutes\n",
      "time to do 1.5 million images 205.9076 minutes\n",
      "time to do 1.5 million images 208.4792 minutes\n",
      "time to do 1.5 million images 210.8452 minutes\n",
      "time to do 1.5 million images 213.5129 minutes\n",
      "time to do 1.5 million images 216.1468 minutes\n",
      "time to do 1.5 million images 218.4457 minutes\n",
      "time to do 1.5 million images 221.1465 minutes\n",
      "time to do 1.5 million images 223.4786 minutes\n",
      "time to do 1.5 million images 226.0337 minutes\n",
      "time to do 1.5 million images 228.3737 minutes\n",
      "time to do 1.5 million images 230.6920 minutes\n",
      "time to do 1.5 million images 233.0950 minutes\n",
      "time to do 1.5 million images 235.5177 minutes\n",
      "time to do 1.5 million images 238.0153 minutes\n",
      "time to do 1.5 million images 240.3576 minutes\n",
      "time to do 1.5 million images 242.8349 minutes\n",
      "time to do 1.5 million images 245.5046 minutes\n",
      "time to do 1.5 million images 247.9740 minutes\n",
      "time to do 1.5 million images 250.4728 minutes\n",
      "time to do 1.5 million images 252.9414 minutes\n",
      "time to do 1.5 million images 255.3886 minutes\n",
      "time to do 1.5 million images 257.8450 minutes\n",
      "time to do 1.5 million images 260.3645 minutes\n",
      "time to do 1.5 million images 262.7708 minutes\n",
      "time to do 1.5 million images 265.1717 minutes\n",
      "time to do 1.5 million images 267.6394 minutes\n",
      "time to do 1.5 million images 270.0559 minutes\n",
      "time to do 1.5 million images 272.6878 minutes\n",
      "time to do 1.5 million images 275.1081 minutes\n",
      "time to do 1.5 million images 277.8887 minutes\n",
      "time to do 1.5 million images 280.5097 minutes\n",
      "time to do 1.5 million images 282.9941 minutes\n",
      "time to do 1.5 million images 285.4349 minutes\n",
      "time to do 1.5 million images 287.9605 minutes\n",
      "time to do 1.5 million images 290.5298 minutes\n",
      "time to do 1.5 million images 292.9881 minutes\n",
      "time to do 1.5 million images 295.4637 minutes\n",
      "time to do 1.5 million images 297.9380 minutes\n",
      "time to do 1.5 million images 300.6389 minutes\n",
      "time to do 1.5 million images 303.0864 minutes\n",
      "time to do 1.5 million images 305.5867 minutes\n",
      "time to do 1.5 million images 308.0924 minutes\n",
      "time to do 1.5 million images 310.5975 minutes\n",
      "time to do 1.5 million images 313.3904 minutes\n",
      "time to do 1.5 million images 315.8907 minutes\n",
      "time to do 1.5 million images 318.4229 minutes\n",
      "time to do 1.5 million images 320.9433 minutes\n",
      "time to do 1.5 million images 323.4903 minutes\n",
      "time to do 1.5 million images 326.0284 minutes\n",
      "time to do 1.5 million images 328.6933 minutes\n",
      "time to do 1.5 million images 331.2257 minutes\n",
      "time to do 1.5 million images 333.7851 minutes\n",
      "time to do 1.5 million images 336.3496 minutes\n",
      "time to do 1.5 million images 339.0410 minutes\n",
      "time to do 1.5 million images 341.6115 minutes\n",
      "time to do 1.5 million images 344.5666 minutes\n",
      "time to do 1.5 million images 347.1707 minutes\n",
      "time to do 1.5 million images 349.7700 minutes\n",
      "time to do 1.5 million images 352.4591 minutes\n",
      "time to do 1.5 million images 355.0741 minutes\n",
      "time to do 1.5 million images 357.6725 minutes\n",
      "time to do 1.5 million images 360.2252 minutes\n",
      "time to do 1.5 million images 362.9944 minutes\n",
      "time to do 1.5 million images 365.6261 minutes\n",
      "time to do 1.5 million images 368.3541 minutes\n",
      "time to do 1.5 million images 370.9934 minutes\n",
      "time to do 1.5 million images 373.6383 minutes\n",
      "time to do 1.5 million images 376.2474 minutes\n",
      "time to do 1.5 million images 378.9456 minutes\n",
      "time to do 1.5 million images 381.5673 minutes\n",
      "time to do 1.5 million images 384.2068 minutes\n",
      "time to do 1.5 million images 386.8421 minutes\n",
      "time to do 1.5 million images 389.4771 minutes\n",
      "time to do 1.5 million images 392.1054 minutes\n",
      "time to do 1.5 million images 394.8033 minutes\n",
      "time to do 1.5 million images 397.5308 minutes\n",
      "time to do 1.5 million images 400.3013 minutes\n",
      "time to do 1.5 million images 403.0472 minutes\n",
      "time to do 1.5 million images 405.8097 minutes\n",
      "time to do 1.5 million images 408.5147 minutes\n",
      "time to do 1.5 million images 411.3541 minutes\n",
      "time to do 1.5 million images 414.1667 minutes\n",
      "time to do 1.5 million images 416.8709 minutes\n",
      "time to do 1.5 million images 419.6812 minutes\n",
      "time to do 1.5 million images 422.4063 minutes\n",
      "time to do 1.5 million images 425.1377 minutes\n",
      "time to do 1.5 million images 427.9279 minutes\n",
      "time to do 1.5 million images 430.7610 minutes\n",
      "time to do 1.5 million images 433.9332 minutes\n",
      "time to do 1.5 million images 436.8079 minutes\n",
      "time to do 1.5 million images 439.5421 minutes\n",
      "time to do 1.5 million images 442.3884 minutes\n",
      "time to do 1.5 million images 445.1751 minutes\n",
      "time to do 1.5 million images 448.0525 minutes\n",
      "time to do 1.5 million images 450.8141 minutes\n",
      "time to do 1.5 million images 453.5670 minutes\n"
     ]
    }
   ],
   "source": [
    "%time\n",
    "\n",
    "from snippets import SInstUID_tracker\n",
    "import time\n",
    "start_time = time.perf_counter()\n",
    " \n",
    "imgs_processed=0\n",
    "df_image_results=pd.DataFrame( columns=['image','pe_present_on_image' ])\n",
    "\n",
    "# dev = 'cpu'\n",
    "model.to(dev)\n",
    "with torch.no_grad():\n",
    "       \n",
    "    sidt = SInstUID_tracker(test_df )\n",
    "    \n",
    "    #create a dataset from that study\n",
    "    test_dataset = CTDatasetDicom(test_df,path= PATH_TEST, transforms=transforms_val)\n",
    "\n",
    "    #create a dataloader for just that study\n",
    "    test_dataloader = DataLoader(test_dataset, batch_size=256, shuffle=False, num_workers=config.WORKERS, pin_memory=True)        \n",
    "\n",
    "    start_time = time.perf_counter()\n",
    "    for idx, (studyids,imageSOP,images) in enumerate(test_dataloader):\n",
    "        images=images.to(dev)\n",
    "\n",
    "        preds=model(images)\n",
    "        preds=torch.sigmoid(preds).cpu()\n",
    " \n",
    "        # memory leak is in here and it increases time by 1.5\n",
    "        for i,pred in enumerate(preds):\n",
    "            pred=pred.numpy()\n",
    "            #the following increases from 88 to 105 mins\n",
    "            sidt.record(studyids[i],pred)\n",
    "        #the following line greatly increases time to run from 88 to 104 minutes and it leaks\n",
    "#             df_image_results=df_image_results.append({'image':images[i], 'pe_present_on_image':preds[0]}, ignore_index=True)\n",
    "\n",
    "        del images,studyids,imageSOP\n",
    "        \n",
    "        imgs_processed+=256\n",
    "        if(imgs_processed>10000):\n",
    "            elapsed_time = time.perf_counter() - start_time\n",
    "            tpall =((elapsed_time/10000.0)*1500000)/60.0\n",
    "            if (np==NONE):\n",
    "                np=1\n",
    "                print(f'time to do 1.5 million images {tpall:0.4f} minutes')"
   ]
  },
  {
   "cell_type": "code",
   "execution_count": null,
   "metadata": {
    "collapsed": true
   },
   "outputs": [],
   "source": [
    "f = open('submission.csv', 'w')\n",
    "f.write('id,label\\n')\n"
   ]
  },
  {
   "cell_type": "markdown",
   "metadata": {},
   "source": [
    "# Junk"
   ]
  },
  {
   "cell_type": "code",
   "execution_count": null,
   "metadata": {
    "code_folding": [],
    "collapsed": true
   },
   "outputs": [],
   "source": [
    "# for img, lbl in train_dl:\n",
    "#     print(img[0].shape)\n",
    "#     print(len(lbl[0]))\n",
    "#     break\n",
    "# # tmp=next((train_dl))\n",
    "\n",
    "# import matplotlib.pyplot as plt\n",
    "# row = train_dataset.df[0]\n",
    "# print(f\"{jpeg_dir}/{row[0]}/{row[1]}/*{row[2]}.jpg\")\n",
    "# img = cv2.imread(glob.glob(f\"{jpeg_dir}/{row[0]}/{row[1]}/*{row[2]}.jpg\")[0])\n",
    "# plt.imshow(img)#discard\n",
    "\n",
    "#how many?\n",
    "# tot_instances=0\n",
    "\n",
    "# studies=(os.listdir(PATH_TRAIN))\n",
    "# studies=sorted(studies)\n",
    "# print(\"tot_studies= \"+str(len(studies)))\n",
    "\n",
    "# tot_series=0\n",
    "# for study in studies:\n",
    "#     pth=os.path.join(PATH_TRAIN,study)\n",
    "# #     print(pth)\n",
    "#     series=os.listdir(pth)\n",
    "#     tot_series+=len(series)\n",
    "#     for serie in series:\n",
    "#         tot_instances+=len(os.listdir(os.path.join(pth,serie)))\n",
    "# print(\"tot_series= \"+str(tot_series))\n",
    "# print(\"tot_instances= \"+str(tot_instances))\n",
    "\n",
    "\n",
    "# class RsnaDataset(Dataset):\n",
    "    \n",
    "#     def __init__(self,df,transforms):\n",
    "#         super().__init__()\n",
    "#         self.df = df\n",
    "#         self.transforms = transforms\n",
    "    \n",
    "#     def __getitem__(self,index):      \n",
    "#         image_path = self.df.image_paths[index]\n",
    "#         data = self.df[self.df['ImagePath']==image_path]\n",
    "#         labels = data[target_columns].values.reshape(-1)\n",
    "#         image = get_img(image_path)\n",
    "#         image = convert_to_rgb(image)\n",
    "        \n",
    "#         if self.transforms:\n",
    "#             image = self.transforms(image=image)['image']\n",
    "            \n",
    "#         image = torch.tensor(image,dtype=torch.float)        \n",
    "#         labels = torch.tensor(labels,dtype=torch.float)\n",
    "        \n",
    "#         return image,labels\n",
    "           \n",
    "#     def __len__(self):\n",
    "#         return self.image_paths.shape[0]"
   ]
  },
  {
   "cell_type": "code",
   "execution_count": 6,
   "metadata": {
    "ExecuteTime": {
     "end_time": "2020-10-18T22:02:47.342921Z",
     "start_time": "2020-10-18T22:02:47.341392Z"
    },
    "code_folding": [],
    "collapsed": true
   },
   "outputs": [],
   "source": [
    "#see what above class does\n",
    "# t_df.head()\n",
    "# df_tmp=t_df.values\n",
    "# df_tmp.shape\n",
    "\n",
    "# df0 = df_tmp[df_tmp[:,3]==0]\n",
    "# df1 = df_tmp[df_tmp[:,3]==1]\n",
    "# print(len(df0))\n",
    "# print(len(df1))\n",
    "\n",
    "# df_tmp_balanced = np.concatenate([df0[:len(df1)],df1],axis=0)\n",
    "# print(len(df_tmp_balanced))\n",
    "# print(sum(df_tmp_balanced[:,3]==0))\n",
    "# print(sum(df_tmp_balanced[:,3]==1))\n",
    "# # df0 = self.df_main[self.df_main[:,3]==0]\n",
    "# #         df1 = self.df_main[self.df_main[:,3]==1]\n",
    "# #         np.random.shuffle(df0)\n",
    "# #         self.df = np.concatenate([df0[:len(df1)],df1],axis=0)"
   ]
  },
  {
   "cell_type": "code",
   "execution_count": null,
   "metadata": {
    "collapsed": true
   },
   "outputs": [],
   "source": [
    "# def get_training_augmentation(y=256,x=256):\n",
    "# #     train_transform = [albu.RandomBrightnessContrast(p=0.3),\n",
    "# #                            albu.VerticalFlip(p=0.5),\n",
    "# #                            albu.HorizontalFlip(p=0.5),\n",
    "# #                            albu.Downscale(p=1.0,scale_min=0.35,scale_max=0.75,),\n",
    "# #                            albu.Resize(y, x)]\n",
    "#     train_transform = [albu.RandomBrightnessContrast(p=0.3),\n",
    "#                            albu.HorizontalFlip(p=0.5),\n",
    "#                            albu.Resize(y, x)]\n",
    "#     return albu.Compose(train_transform)\n",
    "\n",
    "# def get_validation_augmentation(y=256,x=256):\n",
    "#     \"\"\"Add paddings to make image shape divisible by 32\"\"\"\n",
    "#     test_transform = [albu.Resize(y, x)]\n",
    "#     return albu.Compose(test_transform)\n",
    "\n",
    "# formatted_settings = {\n",
    "#             'input_size': [3, 224, 224],\n",
    "#             'input_range': [0, 1],\n",
    "#             'mean': [0.485, 0.456, 0.406],\n",
    "#             'std': [0.229, 0.224, 0.225],}\n",
    "\n",
    "# def preprocess_to_train_format(dcm_data):\n",
    "#     '''\n",
    "#     preprocess the image (numpy array, into same format as the data used to train the model\n",
    "#     x: input image\n",
    "#     '''\n",
    "#     img = dcm_data.pixel_array * int(dcm_data.RescaleSlope) + int(dcm_data.RescaleIntercept)\n",
    "#     img = np.stack([window(img, WL=-600, WW=1500),\n",
    "#                       window(img, WL=40, WW=400),\n",
    "#                       window(img, WL=100, WW=700)], 2)\n",
    "\n",
    "#     img = image.astype(np.float32)\n",
    "#     return img\n",
    "\n",
    "\n",
    "# def preprocess_input(x, mean=None, std=None, input_space=\"RGB\", input_range=None, **kwargs):\n",
    " \n",
    "#     #flips from BGR to RGB (or vice versa I'm not sure)\n",
    "#     if input_space == \"BGR\":\n",
    "#         x = x[..., ::-1].copy()\n",
    "#         gc.collect()\n",
    "\n",
    "#     if input_range is not None:\n",
    "#         if x.max() > 1 and input_range[1] == 1:\n",
    "#             x = x / 255.0\n",
    "\n",
    "#     return x\n"
   ]
  },
  {
   "cell_type": "code",
   "execution_count": 56,
   "metadata": {
    "ExecuteTime": {
     "end_time": "2020-10-20T19:10:32.634142Z",
     "start_time": "2020-10-20T19:10:32.495800Z"
    }
   },
   "outputs": [
    {
     "name": "stdout",
     "output_type": "stream",
     "text": [
      "Automatically created module for IPython interactive environment\n",
      "Image size.......: 512 x 512, 524288 bytes\n",
      "Pixel spacing....: [0.802734, 0.802734]\n",
      "Slice location...: (missing)\n"
     ]
    },
    {
     "data": {
      "image/png": "[encoded data removed]",
      "text/plain": [
       "<Figure size 432x288 with 1 Axes>"
      ]
     },
     "metadata": {
      "needs_background": "light"
     },
     "output_type": "display_data"
    }
   ],
   "source": [
    "import matplotlib.pyplot as plt\n",
    "import pydicom\n",
    "from pydicom.data import get_testdata_files\n",
    "\n",
    "print(__doc__)\n",
    "\n",
    "file_path = '../input/rsna-str-pulmonary-embolism-detection/test/00268ff88746/75d23269adbd/012c12fe09c3.dcm'\n",
    "dataset = pydicom.dcmread(file_path)\n",
    "\n",
    "\n",
    "if 'PixelData' in dataset:\n",
    "    rows = int(dataset.Rows)\n",
    "    cols = int(dataset.Columns)\n",
    "    print(\"Image size.......: {rows:d} x {cols:d}, {size:d} bytes\".format(\n",
    "        rows=rows, cols=cols, size=len(dataset.PixelData)))\n",
    "    if 'PixelSpacing' in dataset:\n",
    "        print(\"Pixel spacing....:\", dataset.PixelSpacing)\n",
    "\n",
    "# use .get() if not sure the item exists, and want a default value if missing\n",
    "print(\"Slice location...:\", dataset.get('SliceLocation', \"(missing)\"))\n",
    "\n",
    "# plot the image using matplotlib\n",
    "plt.imshow(dataset.pixel_array, cmap=plt.cm.bone)\n",
    "plt.show()"
   ]
  }
 ],
 "metadata": {
  "kernelspec": {
   "display_name": "fastbook",
   "language": "python",
   "name": "fastbook"
  },
  "toc": {
   "base_numbering": 1,
   "nav_menu": {},
   "number_sections": true,
   "sideBar": true,
   "skip_h1_title": false,
   "title_cell": "Table of Contents",
   "title_sidebar": "Contents",
   "toc_cell": false,
   "toc_position": {
    "height": "calc(100% - 180px)",
    "left": "10px",
    "top": "150px",
    "width": "165px"
   },
   "toc_section_display": true,
   "toc_window_display": true
  },
  "varInspector": {
   "cols": {
    "lenName": 16,
    "lenType": 16,
    "lenVar": 40
   },
   "kernels_config": {
    "python": {
     "delete_cmd_postfix": "",
     "delete_cmd_prefix": "del ",
     "library": "var_list.py",
     "varRefreshCmd": "print(var_dic_list())"
    },
    "r": {
     "delete_cmd_postfix": ") ",
     "delete_cmd_prefix": "rm(",
     "library": "var_list.r",
     "varRefreshCmd": "cat(var_dic_list()) "
    }
   },
   "position": {
    "height": "357.5px",
    "left": "-303px",
    "right": "20px",
    "top": "770.938px",
    "width": "576.271px"
   },
   "types_to_exclude": [
    "module",
    "function",
    "builtin_function_or_method",
    "instance",
    "_Feature"
   ],
   "window_display": true
  }
 },
 "nbformat": 4,
 "nbformat_minor": 4
}
